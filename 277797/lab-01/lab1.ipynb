{
 "cells": [
  {
   "cell_type": "markdown",
   "metadata": {},
   "source": [
    "##### <font color='pink'> *Laboratorium: Inżynierskie zastosowania statystyki z elementami rachunku prawdopodobieństwa (2024)* </font>\n",
    "\n",
    "\n",
    "## LAB 1: Kombinatoryka. Permutacje, kombinacje, wariacje bez i z powtórzeniami.\n",
    "\n",
    "\n",
    "Zadania mają na celu przybliżenie pracy w Pythonie oraz w Jupyter Notebook w oparciu o znane zagadnienia z kombinatoryki.\n"
   ]
  },
  {
   "cell_type": "markdown",
   "metadata": {},
   "source": [
    "***"
   ]
  },
  {
   "cell_type": "markdown",
   "metadata": {},
   "source": [
    "<div class=\"alert-info\">\n",
    "    \n",
    "<b>Permutacja</b> \n",
    "\n",
    "Permutacja zbioru n-elementowego mówi o tym, na ile sposobów można ustawić w ciągu n różnych elementów:\n",
    "$$P_n=n!$$\n",
    "\n",
    "Silnia to\n",
    "$$n! = 1 \\cdot 2 \\cdot 3 \\cdot ... \\cdot (n - 1) \\cdot n$$\n",
    "\n",
    "<br>\n",
    " \n",
    "    \n",
    "<b>Kombinacja</b> \n",
    "\n",
    "Kombinacja mówi o tym, na ile sposobów można wybrać k elementów ze zbioru n-elementowego:\n",
    "$$C^k_n=\\frac{n!}{k!(n-k)!}$$ \n",
    "\n",
    "Kombinację zapisujemy za pomocą symbolu Newtona \n",
    "$$\\binom{n}{k} =\\frac{n!}{k!(n-k)!}$$\n",
    "\n",
    "<br>\n",
    "    \n",
    "    \n",
    "<b>Wariacja bez powtórzeń</b> \n",
    "\n",
    "Wariacja bez powtórzeń mówi o tym, na ile sposobów utworzymy k-elementowe ciągi za pomocą elementów ze zbioru n-elementowego, bez powtarzania elementów: \n",
    "$$V^k_n=\\frac{n!}{(n-k)!}$$\n",
    "\n",
    "<br>\n",
    "    \n",
    "    \n",
    "<b>Wariacja z powtórzeniami</b> \n",
    "\n",
    "Wariacja z powtórzeniami mówi o tym, na ile sposobów utworzymy k-elementowe ciągi za pomocą elementów ze zbioru n-elementowego, przy czym elementy mogą się powtarzać, czyli być ponownie wylosowane: \n",
    "$$W^k_n=n^k$$\n",
    "\n",
    "<br>\n",
    "    \n",
    "</div>"
   ]
  },
  {
   "cell_type": "markdown",
   "metadata": {},
   "source": [
    "***"
   ]
  },
  {
   "cell_type": "markdown",
   "metadata": {},
   "source": [
    "<img src='rys/zad1im0.png' width=\"359\" height=\"150\">"
   ]
  },
  {
   "cell_type": "markdown",
   "metadata": {},
   "source": [
    "\n",
    "### <font color='green'>ZAD 1. Totolotek </font>\n",
    "\n",
    "\n",
    "Totalizator Sportowy prowadzi następujące gry:\n",
    "\n",
    "\n",
    "**1. Mini Lotto**\n",
    "\n",
    "Wybór 5 liczb z zakresu 1 do 42.  <br>\n",
    "Cena losu 1,50 zł.  <br>\n",
    "Maksymalna wygrana 400 000 zł.\n",
    "<img src='rys/zad1im3.png' width=\"208\" height=\"56\">\n",
    "\n",
    "\n",
    "**2. Lotto**\n",
    "\n",
    "Wybór 6 liczb z zakresu 1 do 49.  <br>\n",
    "Cena losu 3 zł.  <br>\n",
    "Maksymalna wygrana 2 000 000 zł.\n",
    "<img src='rys/zad1im1.png' width=\"208\" height=\"56\">\n",
    "\n",
    "\n",
    "**3. Multi Multi**\n",
    "\n",
    "Wybór 10 z zakresu 1 do 80.  <br>\n",
    "Cena losu 5 zł.  <br>\n",
    "Maksymalna wygrana 2 500 000 zł.\n",
    "<img src='rys/zad1im2.png' width=\"208\" height=\"56\">\n"
   ]
  },
  {
   "cell_type": "markdown",
   "metadata": {},
   "source": [
    "<div class=\"alert-success\">\n",
    "      \n",
    "### ZAD. 1.1 \n",
    "    \n",
    "$\\color{red}{\\textbf{(1 p.)}}$ Zdefiniuj funkcję ```silnia```, aby obliczyć $n!$\n",
    "\n",
    "</div>"
   ]
  },
  {
   "cell_type": "code",
   "execution_count": 8,
   "metadata": {},
   "outputs": [
    {
     "name": "stdout",
     "output_type": "stream",
     "text": [
      "120\n"
     ]
    }
   ],
   "source": [
    "def silnia(n):\n",
    "    return n*silnia(n-1) if n > 1 else 1"
   ]
  },
  {
   "cell_type": "markdown",
   "metadata": {},
   "source": [
    "<div class=\"alert-success\">\n",
    "      \n",
    "### ZAD. 1.2 \n",
    "    \n",
    "$\\color{red}{\\textbf{(1 p.)}}$ Zdefiniuj funkcję ```kombinacja```, aby obliczyć ${n\\choose k}$.\n",
    "\n",
    "</div>"
   ]
  },
  {
   "cell_type": "code",
   "execution_count": 12,
   "metadata": {},
   "outputs": [
    {
     "name": "stdout",
     "output_type": "stream",
     "text": [
      "10.0\n"
     ]
    }
   ],
   "source": [
    "def kombinacja(n,k):\n",
    "    return silnia(n) / (silnia(k) * silnia(n-k))    "
   ]
  },
  {
   "cell_type": "code",
   "execution_count": 4,
   "metadata": {},
   "outputs": [
    {
     "name": "stdout",
     "output_type": "stream",
     "text": [
      "[('Mini Lotto', 5, 42, 1.5), ('Lotto', 6, 49, 3), ('Multi Multi', 10, 80, 5)]\n"
     ]
    }
   ],
   "source": [
    "# W skrócie:\n",
    "# (nazwa gry, liczba losowanych liczb, liczność zbioru, cena losu)\n",
    "lotto = [\n",
    "    ('Mini Lotto',5, 42, 1.5),\n",
    "    ('Lotto',6, 49, 3),\n",
    "    ('Multi Multi',10, 80, 5),\n",
    "]\n",
    "print(lotto)"
   ]
  },
  {
   "cell_type": "markdown",
   "metadata": {},
   "source": [
    "<div class=\"alert-success\">\n",
    "      \n",
    "### ZAD. 1.3 \n",
    "    \n",
    "Oblicz liczbę wszystkich możliwych kombinacji dla każdej z gier. \n",
    " \n",
    "<b>Podpowiedź:</b> Aby łatwiej odczytać wynik, sformatuj wypisywane na ekranie wyniki liczbowe rodzielając każde trzy cyfry za pomoca separatora tysięcznego np. ```10,000,000```<br>\n",
    "<code>print(\"liczba kombinacji = \", format(wynik, \",\"))</code>\n",
    "\n",
    "</div>"
   ]
  },
  {
   "cell_type": "code",
   "execution_count": 16,
   "metadata": {
    "scrolled": true
   },
   "outputs": [
    {
     "name": "stdout",
     "output_type": "stream",
     "text": [
      "Liczba kombinacji:\n",
      "K1 = 850,668.0\n",
      "K2 = 13,983,816.0\n",
      "K3 = 1,646,492,110,120.0\n"
     ]
    }
   ],
   "source": [
    "K1 = kombinacja(42,  5)\n",
    "K2 = kombinacja(49,  6)\n",
    "K3 = kombinacja(80, 10)\n",
    "print(\"Liczba kombinacji:\")\n",
    "print(\"K1 =\", format(K1, \",\")) \n",
    "print(\"K2 =\", format(K2, \",\")) \n",
    "print(\"K3 =\", format(K3, \",\"))"
   ]
  },
  {
   "cell_type": "code",
   "execution_count": 17,
   "metadata": {},
   "outputs": [
    {
     "name": "stdout",
     "output_type": "stream",
     "text": [
      "Liczba kombinacji:\n",
      "K1 = 850,668.0\n",
      "K2 = 13,983,816.0\n",
      "K3 = 1,646,492,110,120.0\n"
     ]
    }
   ],
   "source": [
    "print(\"Liczba kombinacji:\")\n",
    "print(\"K1 =\", format(K1, \",\")) \n",
    "print(\"K2 =\", format(K2, \",\")) \n",
    "print(\"K3 =\", format(K3, \",\"))"
   ]
  },
  {
   "cell_type": "markdown",
   "metadata": {},
   "source": [
    "<div class=\"alert-success\">\n",
    "\n",
    "### ZAD. 1.4 \n",
    "\n",
    "$\\color{red}{\\textbf{(1 p.)}}$ Ile wielokrotnie więcej kombinacji ma gra Lotto i Multi Multi od Mini Lotto?\n",
    "\n",
    "</div>"
   ]
  },
  {
   "cell_type": "code",
   "execution_count": 22,
   "metadata": {},
   "outputs": [
    {
     "name": "stdout",
     "output_type": "stream",
     "text": [
      "16 razy więcej kombinacji dla Lotto niż dla Mini Lotto\n",
      "1935528 razy więcej kombinacji dla Multi Multi niż dla Mini Lotto\n"
     ]
    }
   ],
   "source": [
    "# UZUPEŁNIJ KOD TAM, GDZIE SĄ KROPKI\n",
    "print(int(kombinacja(49,6)/kombinacja(42,5)), \"razy więcej kombinacji dla Lotto niż dla Mini Lotto\") \n",
    "print(int(kombinacja(80,10)/kombinacja(42,5)), \"razy więcej kombinacji dla Multi Multi niż dla Mini Lotto\") "
   ]
  },
  {
   "cell_type": "markdown",
   "metadata": {},
   "source": [
    "<div class=\"alert-success\">\n",
    "\n",
    "### ZAD. 1.5 \n",
    "\n",
    "$\\color{red}{\\textbf{(1 p.)}}$  Która gra ma najwyższe prawdopodobieństwo wygranej? Oblicz prawdopodobieństwa trafienia maksymalnej wygranej w każdej z gier. Wyświetl wyniki z dokładnością do dwóch miejsc po przecinku w notacji naukowej. \n",
    "\n",
    "<b>Podpowiedź:</b> Aby sformatować wypisywane na ekranie wyniki wyniki z dokładnością do dwóch miejsc po przecinku w notacji naukowej, np. ```5.08e-13```, użyj<br>\n",
    "<code>print(\"prawdopodobieństwo wygranej = \", format(wynik, \",.2e\"))</code>\n",
    "\n",
    "</div>"
   ]
  },
  {
   "cell_type": "code",
   "execution_count": 29,
   "metadata": {},
   "outputs": [],
   "source": [
    "P1 = 1/K1\n",
    "P2 = 1/K2\n",
    "P3 = 1/K3"
   ]
  },
  {
   "cell_type": "code",
   "execution_count": 31,
   "metadata": {},
   "outputs": [
    {
     "name": "stdout",
     "output_type": "stream",
     "text": [
      "Prawdopodobieństwo trafienia maksymalnej wygranej:\n",
      "P1 =  1.18e-06\n",
      "P2 =  7.15e-08\n",
      "P3 =  6.07e-13\n"
     ]
    }
   ],
   "source": [
    "print(\"Prawdopodobieństwo trafienia maksymalnej wygranej:\")\n",
    "print(\"P1 = \", format(P1, \",.2e\"))\n",
    "print(\"P2 = \", format(P2, \",.2e\")) \n",
    "print(\"P3 = \", format(P3, \",.2e\"))"
   ]
  },
  {
   "cell_type": "markdown",
   "metadata": {},
   "source": [
    "<div class=\"alert-success\">\n",
    "\n",
    "### ZAD. 1.6 \n",
    "\n",
    "$\\color{red}{\\textbf{(1 p.)}}$ Wyniki przedstaw w formie wykresu: na osi OX - prawdopodobieństwo wygranej w skali logarytmicznej, na osi OY - cena losu.\n",
    "\n",
    "</div>"
   ]
  },
  {
   "cell_type": "code",
   "execution_count": 27,
   "metadata": {},
   "outputs": [
    {
     "data": {
      "image/png": "[encoded data removed]",
      "text/plain": [
       "<Figure size 640x480 with 1 Axes>"
      ]
     },
     "metadata": {},
     "output_type": "display_data"
    }
   ],
   "source": [
    "import numpy as np\n",
    "import matplotlib.pyplot as plt\n",
    " \n",
    "prawdop = [1.18e-06, 7.15e-08, 6.07e-13]\n",
    "cena = [1.5, 3, 5]\n",
    "\n",
    "plt.stem(prawdop,cena)\n",
    "plt.xscale('log')\n",
    "plt.xlabel('Prawdop. wygranej (skala log)')\n",
    "plt.ylabel('Cena losu')\n",
    "plt.title('Cena losu a prawdopodobieństwo wygranej')\n",
    "plt.grid(True)\n",
    "plt.show()"
   ]
  },
  {
   "cell_type": "markdown",
   "metadata": {},
   "source": [
    "<div class=\"alert-success\">\n",
    "\n",
    "### ZAD. 1.7 - Losy za 15 zł\n",
    "       \n",
    "Inwestujesz 15 zł w losy. Możesz kupić: 10 losów Mini Lotto za 1,50 zł każdy, lub 5 losów Lotto za 3 zł każdy, lub też 3 losy Multi Multi za 5 zł każdy. Zakładamy, że każdy los jest inny i biorą one razem udział jako jeden zakład, w pojedynczym losowaniu wygrywających liczb. Tylko jeden zestaw liczb jest zestawem wygrywającym w każdej z gier.\n",
    "    \n",
    "$\\color{red}{\\textbf{(1 p.)}}$ Sprawdź, która gra daje największe szanse wygrania w tym przypadku? Oblicz prawdopodobieństwa gier za 15 zł. Wypisz wyniki na ekranie.\n",
    "\n",
    "\n",
    "</div> "
   ]
  },
  {
   "cell_type": "code",
   "execution_count": 32,
   "metadata": {},
   "outputs": [
    {
     "name": "stdout",
     "output_type": "stream",
     "text": [
      "Prawdopodobieństwo trafienia maksymalnej wygranej w losowaniach za 15 zł:\n",
      "P1 =  1.18e-05\n",
      "P2 =  3.58e-07\n",
      "P3 =  1.82e-12\n"
     ]
    }
   ],
   "source": [
    "gra = ('Mini Lotto', 'Lotto', 'Multi Multi')\n",
    "\n",
    "# Prawdopodobieństwo dla pojedynczej gry:\n",
    "p = [P1, P2, P3]\n",
    "\n",
    "# Prawdopodobieństwo dla gier za 15 zł:\n",
    "p15 = [1/K1 * 10, 1/K2 * 5, 1/K3 * 3]\n",
    "\n",
    "print(\"Prawdopodobieństwo trafienia maksymalnej wygranej w losowaniach za 15 zł:\")\n",
    "print(\"P1 = \", format(p15[0], \",.2e\"))\n",
    "print(\"P2 = \", format(p15[1], \",.2e\")) \n",
    "print(\"P3 = \", format(p15[2], \",.2e\"))"
   ]
  },
  {
   "cell_type": "markdown",
   "metadata": {},
   "source": [
    "***"
   ]
  },
  {
   "cell_type": "markdown",
   "metadata": {},
   "source": [
    "<img src='rys/zad2im0.png' width=\"428\" height=\"150\">"
   ]
  },
  {
   "cell_type": "markdown",
   "metadata": {},
   "source": [
    "<div class=\"alert-success\">\n",
    "\n",
    "### ZAD 2. Generowanie hasła\n",
    "\n",
    "\n",
    "Dana funkcja losuje hasło o zadanej długości $k$ znaków. Znaki mogą się powtarzać i pochodzą ze zbioru liter i cyfr $\\{a, b, c, d, e, f, g, h, i, j, k, l, m, n, o, p, q, r, s, t, u, w, x, y, z, 0, 1, 2, 3, 4, 5, 6, 7, 8, 9\\}$.\n",
    "\n",
    "</div>"
   ]
  },
  {
   "cell_type": "code",
   "execution_count": 33,
   "metadata": {},
   "outputs": [
    {
     "name": "stdout",
     "output_type": "stream",
     "text": [
      "Liczność zbioru = 35\n"
     ]
    }
   ],
   "source": [
    "zbior = ['a', 'b', 'c', 'd', 'e', 'f', 'g', 'h', 'i', 'j', \n",
    "         'k', 'l', 'm', 'n', 'o', 'p', 'q', 'r', 's', 't', \n",
    "         'u', 'w', 'x', 'y', 'z', '0', '1', '2', '3', '4', '5', '6', '7', '8', '9']\n",
    "print(\"Liczność zbioru =\", len(zbior) )\n"
   ]
  },
  {
   "cell_type": "code",
   "execution_count": 34,
   "metadata": {},
   "outputs": [],
   "source": [
    "# Funkcja losująca hasło o podanej długości k\n",
    "\n",
    "import random\n",
    "\n",
    "def generuj_haslo(k):  \n",
    "    zbior = ['a', 'b', 'c', 'd', 'e', 'f', 'g', 'h', 'i', 'j', \n",
    "         'k', 'l', 'm', 'n', 'o', 'p', 'q', 'r', 's', 't', \n",
    "         'u', 'w', 'x', 'y', 'z', '0', '1', '2', '3', '4', '5', '6', '7', '8', '9']\n",
    "    haslo = []\n",
    "    i = 0\n",
    "    while i < k:\n",
    "        znak = random.randint(0, len(zbior)-1)\n",
    "        haslo.append(zbior[znak])\n",
    "        i = i + 1\n",
    "    return haslo\n",
    "\n"
   ]
  },
  {
   "cell_type": "markdown",
   "metadata": {},
   "source": [
    "<div class=\"alert-success\">\n",
    "\n",
    "### ZAD. 2.1\n",
    "\n",
    "\n",
    "$\\color{red}{\\textbf{(1 p.)}}$ Wygeneruj hasło o długości $k$ i wyświetl je na ekranie.<br>\n",
    "Co można zrobić, aby skleić wszystkie znaki w haśle w jeden ciąg znaków bez żadnych separatorów, spacji, itp. \n",
    "    \n",
    "Wskazówka: [https://www.w3schools.com/python/ref_string_join.asp](https://www.w3schools.com/python/ref_string_join.asp)\n",
    "\n",
    "\n",
    "</font>"
   ]
  },
  {
   "cell_type": "code",
   "execution_count": 41,
   "metadata": {},
   "outputs": [
    {
     "name": "stdout",
     "output_type": "stream",
     "text": [
      "h4mqbypr\n"
     ]
    }
   ],
   "source": [
    "# Losowanie hasła o podanej długości (liczba k podana w skrypcie)\n",
    "\n",
    "k = 8\n",
    "res = generuj_haslo(k)\n",
    "print(''.join(res))\n",
    "# UZUPEŁNIJ KOD\n"
   ]
  },
  {
   "cell_type": "markdown",
   "metadata": {},
   "source": [
    "\n",
    "<div class=\"alert-success\">\n",
    "\n",
    "### ZAD. 2.2\n",
    "\n",
    "\n",
    "$\\color{red}{\\textbf{(1 p.)}}$ Dopisz instrukcję wczytywania liczby $k$ z klawiatury. \n",
    "<br>Pamiętaj, że wczytywana wartość domyślnie jest stringiem, a ma być liczbą całkowitą. \n",
    "    \n",
    "Wskazówka: [https://www.geeksforgeeks.org/python-input-function/](https://www.geeksforgeeks.org/python-input-function/)\n",
    "\n",
    "\n",
    "</font>"
   ]
  },
  {
   "cell_type": "code",
   "execution_count": 44,
   "metadata": {},
   "outputs": [
    {
     "name": "stdin",
     "output_type": "stream",
     "text": [
      "Podaj k:  5\n"
     ]
    },
    {
     "name": "stdout",
     "output_type": "stream",
     "text": [
      "5 <class 'int'>\n"
     ]
    }
   ],
   "source": [
    "# Losowanie hasła o podanej długości (liczba k pobrana z klawiatury)\n",
    "k = int(input(\"Podaj k: \"))\n",
    "print(k, type(k))\n"
   ]
  },
  {
   "cell_type": "markdown",
   "metadata": {},
   "source": [
    "<div class=\"alert-success\">\n",
    "\n",
    "### ZAD. 2.3\n",
    "\n",
    "\n",
    "$\\color{red}{\\textbf{(1 p.)}}$ Zdefiniuj funkcję, która zwraca liczbę wszystkich możliwych do utworzenia w ten sposób haseł o długości $k$ ze zbioru znaków o liczności $n$.\n",
    "    <br>Oblicz, ile jest haseł o długości 3, 5, 7, 10, 15 znaków ze zdefiniowanego wcześniej zbioru.\n",
    "\n",
    "\n",
    "</font>"
   ]
  },
  {
   "cell_type": "code",
   "execution_count": 58,
   "metadata": {},
   "outputs": [
    {
     "name": "stdout",
     "output_type": "stream",
     "text": [
      "9765625\n"
     ]
    }
   ],
   "source": [
    "def ile_hasel(n, k):\n",
    "    return pow(n,k)\n",
    "\n",
    "print(ile_hasel(5, 10))"
   ]
  },
  {
   "cell_type": "markdown",
   "metadata": {},
   "source": [
    "***"
   ]
  },
  {
   "cell_type": "markdown",
   "metadata": {},
   "source": [
    "<img src='rys/zad3im0.png' width=\"493\" height=\"150\">"
   ]
  },
  {
   "cell_type": "markdown",
   "metadata": {},
   "source": [
    "<div class=\"alert-success\">\n",
    "\n",
    "### ZAD 3. Procentowe spadki i wzrosty notowań bitcoina</b>\n",
    "    \n",
    "   \n",
    "Robert kupił 1 BTC za 224,000 PLN w poniedziałek.<br>\n",
    "We wtorek cena BTC wzrosła o 70%.<br>\n",
    "W środę cena BTC spadła o 70%.\n",
    "\n",
    "    \n",
    "$\\color{red}{\\textbf{(1 p.)}}$ Ile Robert zarobił lub stracił? Czy też wyszedł na zero? \n",
    "<br>Oblicz cenę BTC dla pozostałych dni (wtorku i środy).\n",
    "\n",
    "    \n",
    "</div> "
   ]
  },
  {
   "cell_type": "code",
   "execution_count": 55,
   "metadata": {},
   "outputs": [
    {
     "name": "stdout",
     "output_type": "stream",
     "text": [
      "Cena BTC = [224000, 380800.0, 114240.0]\n"
     ]
    }
   ],
   "source": [
    "\n",
    "pn = 224000\n",
    "wt = pn + pn * 0.7\n",
    "sr = wt - wt * 0.7\n",
    "\n",
    "cena = [pn, wt, sr]\n",
    "print(\"Cena BTC =\", cena)"
   ]
  },
  {
   "cell_type": "code",
   "execution_count": 56,
   "metadata": {},
   "outputs": [
    {
     "data": {
      "image/png": "[encoded data removed]",
      "text/plain": [
       "<Figure size 640x480 with 1 Axes>"
      ]
     },
     "metadata": {},
     "output_type": "display_data"
    }
   ],
   "source": [
    "# WYRYSUJ WYKRES DLA WYLICZONYCH CEN\n",
    "\n",
    "import numpy as np\n",
    "import matplotlib.pyplot as plt\n",
    "\n",
    "# Create names on the x-axis\n",
    "day = ('Pn', 'Wt', 'Śr')\n",
    "x_pos = np.arange(len(day))\n",
    "plt.xticks(x_pos, day)\n",
    "\n",
    "plt.plot(x_pos, cena, '-o')\n",
    "plt.title('BTC / PLN')\n",
    "plt.xlabel('Dzień')\n",
    "plt.ylabel('Cena BTC')\n",
    "plt.grid(True)\n",
    "plt.show()"
   ]
  },
  {
   "cell_type": "markdown",
   "metadata": {},
   "source": [
    "***"
   ]
  },
  {
   "cell_type": "markdown",
   "metadata": {},
   "source": [
    "<font color='pink'> _dr inż. Urszula Libal - Politechnika Wrocławska (2024)_ </font>"
   ]
  }
 ],
 "metadata": {
  "kernelspec": {
   "display_name": "Python 3 (ipykernel)",
   "language": "python",
   "name": "python3"
  },
  "language_info": {
   "codemirror_mode": {
    "name": "ipython",
    "version": 3
   },
   "file_extension": ".py",
   "mimetype": "text/x-python",
   "name": "python",
   "nbconvert_exporter": "python",
   "pygments_lexer": "ipython3",
   "version": "3.10.13"
  }
 },
 "nbformat": 4,
 "nbformat_minor": 4
}
